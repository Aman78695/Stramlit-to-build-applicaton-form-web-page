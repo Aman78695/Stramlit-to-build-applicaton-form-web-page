{
  "nbformat": 4,
  "nbformat_minor": 0,
  "metadata": {
    "colab": {
      "provenance": [],
      "authorship_tag": "ABX9TyNjYlydSgc5NJZhyjiIQbYK",
      "include_colab_link": true
    },
    "kernelspec": {
      "name": "python3",
      "display_name": "Python 3"
    },
    "language_info": {
      "name": "python"
    }
  },
  "cells": [
    {
      "cell_type": "markdown",
      "metadata": {
        "id": "view-in-github",
        "colab_type": "text"
      },
      "source": [
        "<a href=\"https://colab.research.google.com/github/Aman78695/Stramlit-to-build-applicaton-form-web-page/blob/main/simple_code_to_build_application_form_web_page_using_streamlit_and_Pycharm_IDE.ipynb\" target=\"_parent\"><img src=\"https://colab.research.google.com/assets/colab-badge.svg\" alt=\"Open In Colab\"/></a>"
      ]
    },
    {
      "cell_type": "code",
      "execution_count": null,
      "metadata": {
        "id": "N-M4u6QxfKhu"
      },
      "outputs": [],
      "source": [
        "import streamlit as st\n",
        "st.title('Registration Form')\n",
        "\n",
        "first,last=st.columns(2)\n",
        "\n",
        "first.text_input('first name')\n",
        "last.text_input('last name')\n",
        "\n",
        "email,mob=st.columns([3,1])\n",
        "\n",
        "email.text_input('Enter your mail')\n",
        "mob.text_input('Enter your number')\n",
        "\n",
        "user,pw,pw1=st.columns(3)\n",
        "user.text_input('username')\n",
        "pw.text_input('password',type='password')\n",
        "pw1.text_input('retype password',type='password')\n",
        "\n",
        "ch,bl,sub=st.columns(3)\n",
        "ch.checkbox('I Agree')\n",
        "sub.button('submit')"
      ]
    }
  ]
}